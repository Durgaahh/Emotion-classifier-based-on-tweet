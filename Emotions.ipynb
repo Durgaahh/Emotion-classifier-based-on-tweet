{
  "cells": [
    {
      "cell_type": "markdown",
      "metadata": {
        "id": "tGOuptoa7kwW"
      },
      "source": [
        "# DATASET"
      ]
    },
    {
      "cell_type": "code",
      "execution_count": 1,
      "metadata": {
        "id": "fu-rORrM7oqz",
        "colab": {
          "base_uri": "https://localhost:8080/"
        },
        "outputId": "be84d450-b327-4306-f133-22e3052f1545"
      },
      "outputs": [
        {
          "output_type": "stream",
          "name": "stdout",
          "text": [
            "                                                     text  label\n",
            "0           i just feel really helpless and heavy hearted      4\n",
            "1       ive enjoyed being able to slouch about relax a...      0\n",
            "2       i gave up my internship with the dmrg and am f...      4\n",
            "3                              i dont know i feel so lost      0\n",
            "4       i am a kindergarten teacher and i am thoroughl...      4\n",
            "...                                                   ...    ...\n",
            "416804  i feel like telling these horny devils to find...      2\n",
            "416805  i began to realize that when i was feeling agi...      3\n",
            "416806  i feel very curious be why previous early dawn...      5\n",
            "416807  i feel that becuase of the tyranical nature of...      3\n",
            "416808  i think that after i had spent some time inves...      5\n",
            "\n",
            "[416809 rows x 2 columns]\n"
          ]
        }
      ],
      "source": [
        "import pandas as pd\n",
        "url = '/content/sample_data/emotions (1).csv'\n",
        "df = pd.read_csv(url)\n",
        "print(df)"
      ]
    },
    {
      "cell_type": "code",
      "execution_count": 2,
      "metadata": {
        "id": "tvVrRSgj7pE8",
        "colab": {
          "base_uri": "https://localhost:8080/"
        },
        "outputId": "8e77f73c-a6e4-45b4-c13b-f017e23a578b"
      },
      "outputs": [
        {
          "output_type": "execute_result",
          "data": {
            "text/plain": [
              "(416809, 2)"
            ]
          },
          "metadata": {},
          "execution_count": 2
        }
      ],
      "source": [
        "df.shape"
      ]
    },
    {
      "cell_type": "code",
      "execution_count": 3,
      "metadata": {
        "id": "hmOzDbHl7tFe",
        "colab": {
          "base_uri": "https://localhost:8080/",
          "height": 147
        },
        "outputId": "4bcecc21-9559-4978-af2f-57f3c41a8937"
      },
      "outputs": [
        {
          "output_type": "execute_result",
          "data": {
            "text/plain": [
              "text     0\n",
              "label    0\n",
              "dtype: int64"
            ],
            "text/html": [
              "<div>\n",
              "<style scoped>\n",
              "    .dataframe tbody tr th:only-of-type {\n",
              "        vertical-align: middle;\n",
              "    }\n",
              "\n",
              "    .dataframe tbody tr th {\n",
              "        vertical-align: top;\n",
              "    }\n",
              "\n",
              "    .dataframe thead th {\n",
              "        text-align: right;\n",
              "    }\n",
              "</style>\n",
              "<table border=\"1\" class=\"dataframe\">\n",
              "  <thead>\n",
              "    <tr style=\"text-align: right;\">\n",
              "      <th></th>\n",
              "      <th>0</th>\n",
              "    </tr>\n",
              "  </thead>\n",
              "  <tbody>\n",
              "    <tr>\n",
              "      <th>text</th>\n",
              "      <td>0</td>\n",
              "    </tr>\n",
              "    <tr>\n",
              "      <th>label</th>\n",
              "      <td>0</td>\n",
              "    </tr>\n",
              "  </tbody>\n",
              "</table>\n",
              "</div><br><label><b>dtype:</b> int64</label>"
            ]
          },
          "metadata": {},
          "execution_count": 3
        }
      ],
      "source": [
        "df.isnull().sum()"
      ]
    },
    {
      "cell_type": "code",
      "execution_count": 4,
      "metadata": {
        "id": "LLukoalv7v-4",
        "colab": {
          "base_uri": "https://localhost:8080/"
        },
        "outputId": "c7a32b5c-2fc4-48d4-f831-3b7294f6b5bd"
      },
      "outputs": [
        {
          "output_type": "execute_result",
          "data": {
            "text/plain": [
              "np.int64(686)"
            ]
          },
          "metadata": {},
          "execution_count": 4
        }
      ],
      "source": [
        "df.duplicated().sum()"
      ]
    },
    {
      "cell_type": "code",
      "execution_count": 5,
      "metadata": {
        "id": "a43PDJjP73v3"
      },
      "outputs": [],
      "source": [
        "df.drop_duplicates(inplace=True)"
      ]
    },
    {
      "cell_type": "markdown",
      "metadata": {
        "id": "qWcjToFU8BSN"
      },
      "source": [
        "# PREPROCESSING"
      ]
    },
    {
      "cell_type": "markdown",
      "metadata": {
        "id": "65DlATjq8bKs"
      },
      "source": [
        "Lowercasing"
      ]
    },
    {
      "cell_type": "code",
      "execution_count": 6,
      "metadata": {
        "id": "PAzOQvJe8EUH"
      },
      "outputs": [],
      "source": [
        "df['text'] = df['text'].str.lower()"
      ]
    },
    {
      "cell_type": "markdown",
      "metadata": {
        "id": "RkDS6Wo9883v"
      },
      "source": [
        "Removing urls"
      ]
    },
    {
      "cell_type": "code",
      "execution_count": 7,
      "metadata": {
        "id": "2kEAKkZM8d3w"
      },
      "outputs": [],
      "source": [
        "import re\n",
        "df['text'] = df['text'].apply(lambda x: re.sub(r'https?://\\S+|www\\.\\S+', '', x))"
      ]
    },
    {
      "cell_type": "markdown",
      "metadata": {
        "id": "zC7mlQs_9Er-"
      },
      "source": [
        "Remove html"
      ]
    },
    {
      "cell_type": "code",
      "execution_count": 8,
      "metadata": {
        "id": "XkfpOjXH8-fG"
      },
      "outputs": [],
      "source": [
        "df['text'] = df['text'].apply(lambda x: re.sub(r'<.*?>', '', x))"
      ]
    },
    {
      "cell_type": "markdown",
      "metadata": {
        "id": "1rBKcteP9NhB"
      },
      "source": [
        "Remove special characters"
      ]
    },
    {
      "cell_type": "code",
      "execution_count": 9,
      "metadata": {
        "id": "DDKsAQXG9Gfa"
      },
      "outputs": [],
      "source": [
        "df['text'] = df['text'].apply(lambda x: re.sub(r'[^a-z\\s]', '', x))"
      ]
    },
    {
      "cell_type": "markdown",
      "metadata": {
        "id": "9vpJHHph9MWX"
      },
      "source": [
        "Remove white spaces"
      ]
    },
    {
      "cell_type": "code",
      "execution_count": 10,
      "metadata": {
        "id": "Dj30cMrp9TOZ"
      },
      "outputs": [],
      "source": [
        "df['text'] = df['text'].apply(lambda x: re.sub(r'\\s+', ' ', x).strip())"
      ]
    },
    {
      "cell_type": "code",
      "source": [
        "def stratified_sample(df, label_col='label', n_samples=100000, random_state=42):\n",
        "    # Calculate samples per class\n",
        "    n_classes = df[label_col].nunique()\n",
        "    samples_per_class = n_samples // n_classes\n",
        "\n",
        "    # Sample from each class\n",
        "    df_sampled = df.groupby(label_col).apply(\n",
        "        lambda x: x.sample(n=min(len(x), samples_per_class), random_state=random_state)\n",
        "    ).reset_index(drop=True)\n",
        "\n",
        "    return df_sampled\n",
        "\n",
        "df = stratified_sample(df, label_col='label', n_samples=100000)"
      ],
      "metadata": {
        "colab": {
          "base_uri": "https://localhost:8080/"
        },
        "id": "15BpKLUDOM8W",
        "outputId": "975e76f4-7123-48c4-9917-d001a12e6842"
      },
      "execution_count": 45,
      "outputs": [
        {
          "output_type": "stream",
          "name": "stderr",
          "text": [
            "<ipython-input-45-92c4c26dc641>:7: DeprecationWarning: DataFrameGroupBy.apply operated on the grouping columns. This behavior is deprecated, and in a future version of pandas the grouping columns will be excluded from the operation. Either pass `include_groups=False` to exclude the groupings or explicitly select the grouping columns after groupby to silence this warning.\n",
            "  df_sampled = df.groupby(label_col).apply(\n"
          ]
        }
      ]
    },
    {
      "cell_type": "markdown",
      "metadata": {
        "id": "IQX79JHC9hS_"
      },
      "source": [
        "Convert text into TF - IDF vectors"
      ]
    },
    {
      "cell_type": "code",
      "execution_count": 46,
      "metadata": {
        "id": "b4-n-cRc9UTL"
      },
      "outputs": [],
      "source": [
        "from sklearn.feature_extraction.text import TfidfVectorizer\n",
        "vectorizer = TfidfVectorizer(max_features=500, stop_words='english')\n",
        "X = vectorizer.fit_transform(df['text'])"
      ]
    },
    {
      "cell_type": "markdown",
      "metadata": {
        "id": "o75P4rWr9lKG"
      },
      "source": [
        "Encode the labels"
      ]
    },
    {
      "cell_type": "code",
      "execution_count": 47,
      "metadata": {
        "id": "pK_AsJ4x9caj"
      },
      "outputs": [],
      "source": [
        "from sklearn.preprocessing import LabelEncoder\n",
        "label_encoder = LabelEncoder()\n",
        "y = label_encoder.fit_transform(df['label'])"
      ]
    },
    {
      "cell_type": "markdown",
      "metadata": {
        "id": "PeqrGcKw9zHQ"
      },
      "source": [
        "Split the dataset"
      ]
    },
    {
      "cell_type": "code",
      "execution_count": 48,
      "metadata": {
        "id": "jqsbwj9t9pnF"
      },
      "outputs": [],
      "source": [
        "from sklearn.model_selection import train_test_split\n",
        "X_train, X_test, y_train, y_test = train_test_split(X, y, test_size=0.2, random_state=42)"
      ]
    },
    {
      "cell_type": "markdown",
      "metadata": {
        "id": "W9DBHAjJ-cX8"
      },
      "source": [
        "# TRAINING AND EVALUATION"
      ]
    },
    {
      "cell_type": "markdown",
      "source": [
        "Import necessary packages"
      ],
      "metadata": {
        "id": "T1jkbJA2lGeF"
      }
    },
    {
      "cell_type": "code",
      "source": [
        "from sklearn.svm import SVC\n",
        "from sklearn.metrics import classification_report"
      ],
      "metadata": {
        "id": "vpRWChqDlJUa"
      },
      "execution_count": 49,
      "outputs": []
    },
    {
      "cell_type": "markdown",
      "source": [
        "LINEAR"
      ],
      "metadata": {
        "id": "uGUygnzjlr8e"
      }
    },
    {
      "cell_type": "code",
      "source": [
        "# Train SVM with linear kernel\n",
        "model = SVC(kernel='linear')\n",
        "model.fit(X_train, y_train)\n",
        "\n",
        "# Predict\n",
        "y_pred = model.predict(X_test)\n",
        "\n",
        "# Print performance matrix\n",
        "print(classification_report(y_test, y_pred))"
      ],
      "metadata": {
        "colab": {
          "base_uri": "https://localhost:8080/"
        },
        "id": "1AuUIrO1insk",
        "outputId": "ceb7bfd9-80fc-4459-c214-d9b865dc0347"
      },
      "execution_count": 50,
      "outputs": [
        {
          "output_type": "stream",
          "name": "stdout",
          "text": [
            "              precision    recall  f1-score   support\n",
            "\n",
            "           0       0.58      0.58      0.58       351\n",
            "           1       0.53      0.62      0.57       333\n",
            "           2       0.86      0.93      0.89       352\n",
            "           3       0.91      0.72      0.80       332\n",
            "           4       0.92      0.74      0.82       320\n",
            "           5       0.88      0.98      0.93       312\n",
            "\n",
            "    accuracy                           0.76      2000\n",
            "   macro avg       0.78      0.76      0.76      2000\n",
            "weighted avg       0.77      0.76      0.76      2000\n",
            "\n"
          ]
        }
      ]
    },
    {
      "cell_type": "markdown",
      "source": [
        "POLYNOMIAL"
      ],
      "metadata": {
        "id": "9LPNoyAOlusp"
      }
    },
    {
      "cell_type": "code",
      "source": [
        "# Train SVM with polynomial kernel\n",
        "model = SVC(kernel='poly', degree=2, C=1.0)  # degree=3 is default\n",
        "model.fit(X_train, y_train)\n",
        "\n",
        "# Predict\n",
        "y_pred = model.predict(X_test)\n",
        "\n",
        "# Print performance matrix\n",
        "print(classification_report(y_test, y_pred))\n"
      ],
      "metadata": {
        "id": "phvWwiCBjlei",
        "colab": {
          "base_uri": "https://localhost:8080/"
        },
        "outputId": "cc69811e-956f-4b15-ddf5-09cf14ee8836"
      },
      "execution_count": 51,
      "outputs": [
        {
          "output_type": "stream",
          "name": "stdout",
          "text": [
            "              precision    recall  f1-score   support\n",
            "\n",
            "           0       0.52      0.57      0.54       351\n",
            "           1       0.46      0.60      0.52       333\n",
            "           2       0.86      0.84      0.85       352\n",
            "           3       0.88      0.69      0.77       332\n",
            "           4       0.86      0.69      0.77       320\n",
            "           5       0.89      0.90      0.90       312\n",
            "\n",
            "    accuracy                           0.71      2000\n",
            "   macro avg       0.74      0.72      0.72      2000\n",
            "weighted avg       0.74      0.71      0.72      2000\n",
            "\n"
          ]
        }
      ]
    },
    {
      "cell_type": "markdown",
      "source": [
        "RBF"
      ],
      "metadata": {
        "id": "5UYSSNSwlwyC"
      }
    },
    {
      "cell_type": "code",
      "source": [
        "#Train SVM with rbf kernel\n",
        "model = SVC(kernel='rbf')\n",
        "model.fit(X_train, y_train)\n",
        "\n",
        "# Predict\n",
        "y_pred = model.predict(X_test)\n",
        "\n",
        "# Print performance matrix\n",
        "print(classification_report(y_test, y_pred))"
      ],
      "metadata": {
        "id": "bPiIbd1ckmBW",
        "colab": {
          "base_uri": "https://localhost:8080/"
        },
        "outputId": "e2cf18da-039f-4336-91e1-fefc97cf10ea"
      },
      "execution_count": 52,
      "outputs": [
        {
          "output_type": "stream",
          "name": "stdout",
          "text": [
            "              precision    recall  f1-score   support\n",
            "\n",
            "           0       0.55      0.57      0.56       351\n",
            "           1       0.50      0.59      0.54       333\n",
            "           2       0.86      0.92      0.89       352\n",
            "           3       0.90      0.72      0.80       332\n",
            "           4       0.91      0.72      0.80       320\n",
            "           5       0.88      0.98      0.93       312\n",
            "\n",
            "    accuracy                           0.75      2000\n",
            "   macro avg       0.77      0.75      0.75      2000\n",
            "weighted avg       0.76      0.75      0.75      2000\n",
            "\n"
          ]
        }
      ]
    },
    {
      "cell_type": "markdown",
      "source": [
        "SIGMOID"
      ],
      "metadata": {
        "id": "-FJO4CqjlzPF"
      }
    },
    {
      "cell_type": "code",
      "source": [
        "#Train SVM with sigmoid kernel\n",
        "model = SVC(kernel='sigmoid')\n",
        "model.fit(X_train, y_train)\n",
        "\n",
        "# Predict\n",
        "y_pred = model.predict(X_test)\n",
        "\n",
        "# Print performance matrix\n",
        "print(classification_report(y_test, y_pred))"
      ],
      "metadata": {
        "id": "b3xBzMZUlAbi",
        "colab": {
          "base_uri": "https://localhost:8080/"
        },
        "outputId": "a6b9346a-9f1f-4e0a-8307-3dcd12ab7cf9"
      },
      "execution_count": 53,
      "outputs": [
        {
          "output_type": "stream",
          "name": "stdout",
          "text": [
            "              precision    recall  f1-score   support\n",
            "\n",
            "           0       0.55      0.60      0.58       351\n",
            "           1       0.53      0.57      0.55       333\n",
            "           2       0.86      0.91      0.89       352\n",
            "           3       0.86      0.72      0.78       332\n",
            "           4       0.92      0.74      0.82       320\n",
            "           5       0.87      0.97      0.92       312\n",
            "\n",
            "    accuracy                           0.75      2000\n",
            "   macro avg       0.77      0.75      0.76      2000\n",
            "weighted avg       0.76      0.75      0.75      2000\n",
            "\n"
          ]
        }
      ]
    }
  ],
  "metadata": {
    "colab": {
      "provenance": [],
      "authorship_tag": "ABX9TyMVWMV06HyCyHVSCyesc68M"
    },
    "kernelspec": {
      "display_name": "Python 3",
      "name": "python3"
    },
    "language_info": {
      "name": "python"
    }
  },
  "nbformat": 4,
  "nbformat_minor": 0
}